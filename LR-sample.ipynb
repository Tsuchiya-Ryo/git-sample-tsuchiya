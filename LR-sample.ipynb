{
  "nbformat": 4,
  "nbformat_minor": 0,
  "metadata": {
    "colab": {
      "name": "Untitled0.ipynb",
      "provenance": [],
      "authorship_tag": "ABX9TyPUPfznXO1B6TIRML3YFqFF"
    },
    "kernelspec": {
      "name": "python3",
      "display_name": "Python 3"
    }
  },
  "cells": [
    {
      "cell_type": "code",
      "metadata": {
        "id": "_f05VqNqnG8S",
        "colab_type": "code",
        "colab": {
          "base_uri": "https://localhost:8080/",
          "height": 221
        },
        "outputId": "cb2926d6-5e5d-4648-d5d0-cf76a60a2e1a"
      },
      "source": [
        "%%bash\n",
        "wget https://raw.githubusercontent.com/deepchem/deepchem/master/datasets/delaney-processed.csv"
      ],
      "execution_count": 3,
      "outputs": [
        {
          "output_type": "stream",
          "text": [
            "--2020-05-28 14:10:00--  https://raw.githubusercontent.com/deepchem/deepchem/master/datasets/delaney-processed.csv\n",
            "Resolving raw.githubusercontent.com (raw.githubusercontent.com)... 151.101.0.133, 151.101.64.133, 151.101.128.133, ...\n",
            "Connecting to raw.githubusercontent.com (raw.githubusercontent.com)|151.101.0.133|:443... connected.\n",
            "HTTP request sent, awaiting response... 200 OK\n",
            "Length: 96699 (94K) [text/plain]\n",
            "Saving to: ‘delaney-processed.csv’\n",
            "\n",
            "     0K .......... .......... .......... .......... .......... 52% 1.39M 0s\n",
            "    50K .......... .......... .......... .......... ....      100% 5.52M=0.04s\n",
            "\n",
            "2020-05-28 14:10:00 (2.14 MB/s) - ‘delaney-processed.csv’ saved [96699/96699]\n",
            "\n"
          ],
          "name": "stderr"
        }
      ]
    },
    {
      "cell_type": "code",
      "metadata": {
        "id": "qUG4SJ7rnPP5",
        "colab_type": "code",
        "colab": {}
      },
      "source": [
        "import matplotlib.pyplot as plt\n",
        "import pandas as pd\n",
        "import numpy as np"
      ],
      "execution_count": 0,
      "outputs": []
    },
    {
      "cell_type": "code",
      "metadata": {
        "id": "e4rMqW9Znu-w",
        "colab_type": "code",
        "colab": {
          "base_uri": "https://localhost:8080/",
          "height": 54
        },
        "outputId": "b0244e9a-ac7d-4666-ede2-e9d1c11fe32a"
      },
      "source": [
        "data = pd.read_csv(\"delaney-processed.csv\")\n",
        "print(list(data))"
      ],
      "execution_count": 8,
      "outputs": [
        {
          "output_type": "stream",
          "text": [
            "['Compound ID', 'ESOL predicted log solubility in mols per litre', 'Minimum Degree', 'Molecular Weight', 'Number of H-Bond Donors', 'Number of Rings', 'Number of Rotatable Bonds', 'Polar Surface Area', 'measured log solubility in mols per litre', 'smiles']\n"
          ],
          "name": "stdout"
        }
      ]
    },
    {
      "cell_type": "code",
      "metadata": {
        "id": "-oYEdJDApdIc",
        "colab_type": "code",
        "colab": {}
      },
      "source": [
        ""
      ],
      "execution_count": 0,
      "outputs": []
    },
    {
      "cell_type": "code",
      "metadata": {
        "id": "OI0z7mVrn1Dv",
        "colab_type": "code",
        "colab": {
          "base_uri": "https://localhost:8080/",
          "height": 221
        },
        "outputId": "af52f31c-89b5-49e7-b9dd-fd61ea386c24"
      },
      "source": [
        "#test LR. Mr Jan holds this copyright\n",
        "X = data[['Minimum Degree', 'Molecular Weight', 'Number of H-Bond Donors', 'Number of Rings', 'Number of Rotatable Bonds', 'Polar Surface Area']]\n",
        "N = len(X)\n",
        "ones = np.ones(N)\n",
        "Xp = np.c_[ones,X]\n",
        "y = data[\"measured log solubility in mols per litre\"]\n",
        "y = y.values.reshape(1,-1)\n",
        "\n",
        "np.random.seed(0)\n",
        "w = 2*np.random.rand(7) -1\n",
        "\n",
        "epochs = 100000\n",
        "learning_rate = 0.00001\n",
        "for epoch in range(epochs):\n",
        "  y_predicted = w @ Xp.T     # \"@\" operation of inner product\n",
        "  error = y - y_predicted\n",
        "  L2 = 0.5*np.mean(error**2)  #regularizaiton term\n",
        "\n",
        "  gradient = -(1/N)*error @Xp\n",
        "  w = w - learning_rate*gradient\n",
        "\n",
        "  if epoch%(epochs/10) == 0 :\n",
        "    print(epoch, L2)\n",
        "\n",
        "print(w)\n"
      ],
      "execution_count": 19,
      "outputs": [
        {
          "output_type": "stream",
          "text": [
            "0 1090.7649352243332\n",
            "10000 0.97518335261947\n",
            "20000 0.8838826400921164\n",
            "30000 0.8469141943293909\n",
            "40000 0.8267533444771902\n",
            "50000 0.8123853002083452\n",
            "60000 0.800517596338252\n",
            "70000 0.7901131483184214\n",
            "80000 0.7807988505265935\n",
            "90000 0.7724017980048025\n",
            "[[-0.07204174  0.18533843 -0.01804268  0.08557972 -0.23746    -0.08690909\n",
            "   0.03140632]]\n"
          ],
          "name": "stdout"
        }
      ]
    },
    {
      "cell_type": "code",
      "metadata": {
        "id": "YYQPOB2Vo_1A",
        "colab_type": "code",
        "colab": {}
      },
      "source": [
        ""
      ],
      "execution_count": 0,
      "outputs": []
    }
  ]
}